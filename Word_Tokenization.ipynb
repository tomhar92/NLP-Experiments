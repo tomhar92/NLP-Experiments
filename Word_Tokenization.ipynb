{
  "nbformat": 4,
  "nbformat_minor": 0,
  "metadata": {
    "colab": {
      "name": "Word Tokenization.ipynb",
      "provenance": [],
      "authorship_tag": "ABX9TyN4tULuyE41zfSPAuUQ6m+9",
      "include_colab_link": true
    },
    "kernelspec": {
      "name": "python3",
      "display_name": "Python 3"
    }
  },
  "cells": [
    {
      "cell_type": "markdown",
      "metadata": {
        "id": "view-in-github",
        "colab_type": "text"
      },
      "source": [
        "<a href=\"https://colab.research.google.com/github/tomhar92/NLP-Experiments/blob/master/Word_Tokenization.ipynb\" target=\"_parent\"><img src=\"https://colab.research.google.com/assets/colab-badge.svg\" alt=\"Open In Colab\"/></a>"
      ]
    },
    {
      "cell_type": "markdown",
      "metadata": {
        "id": "CcW2reE6f_b0",
        "colab_type": "text"
      },
      "source": [
        "# Word Tokenization\n",
        "\n",
        "The task of word tokenization is all about segmenting running text into words. These tokens are very useful for finding patterns in the text. They are also considered to be a base step for stemming and lemmatization."
      ]
    },
    {
      "cell_type": "markdown",
      "metadata": {
        "id": "bhc8PZJr_G75",
        "colab_type": "text"
      },
      "source": [
        "# Byte Pair Encoding\n",
        "\n",
        "Instead of tokenizing words, we can use our text to automatically define what size our tokens should be. This is useful to breakdown words into sub-words because our algorithms will know how to handle unknown words. \n",
        "\n",
        "At each step of the algorithm we count the number of symbol pairs, and replace it with the new merged symbol. We continue to count and merge, creating new longer and longer character strings, until we have done K merges. The resulting symbol set will consist of the original set of characters plus k new symbols."
      ]
    },
    {
      "cell_type": "code",
      "metadata": {
        "id": "RvzYjJ1XMcIv",
        "colab_type": "code",
        "colab": {
          "base_uri": "https://localhost:8080/",
          "height": 272
        },
        "outputId": "994ff26c-02b4-42d9-d158-347a744999b0"
      },
      "source": [
        "!pip install wikipedia"
      ],
      "execution_count": 3,
      "outputs": [
        {
          "output_type": "stream",
          "text": [
            "Collecting wikipedia\n",
            "  Downloading https://files.pythonhosted.org/packages/67/35/25e68fbc99e672127cc6fbb14b8ec1ba3dfef035bf1e4c90f78f24a80b7d/wikipedia-1.4.0.tar.gz\n",
            "Requirement already satisfied: beautifulsoup4 in /usr/local/lib/python3.6/dist-packages (from wikipedia) (4.6.3)\n",
            "Requirement already satisfied: requests<3.0.0,>=2.0.0 in /usr/local/lib/python3.6/dist-packages (from wikipedia) (2.21.0)\n",
            "Requirement already satisfied: chardet<3.1.0,>=3.0.2 in /usr/local/lib/python3.6/dist-packages (from requests<3.0.0,>=2.0.0->wikipedia) (3.0.4)\n",
            "Requirement already satisfied: idna<2.9,>=2.5 in /usr/local/lib/python3.6/dist-packages (from requests<3.0.0,>=2.0.0->wikipedia) (2.8)\n",
            "Requirement already satisfied: urllib3<1.25,>=1.21.1 in /usr/local/lib/python3.6/dist-packages (from requests<3.0.0,>=2.0.0->wikipedia) (1.24.3)\n",
            "Requirement already satisfied: certifi>=2017.4.17 in /usr/local/lib/python3.6/dist-packages (from requests<3.0.0,>=2.0.0->wikipedia) (2019.11.28)\n",
            "Building wheels for collected packages: wikipedia\n",
            "  Building wheel for wikipedia (setup.py) ... \u001b[?25l\u001b[?25hdone\n",
            "  Created wheel for wikipedia: filename=wikipedia-1.4.0-cp36-none-any.whl size=11686 sha256=3d2ef481a55a7a8dbba742d3480242a96d574d41568a3f39af0feb4bf2313157\n",
            "  Stored in directory: /root/.cache/pip/wheels/87/2a/18/4e471fd96d12114d16fe4a446d00c3b38fb9efcb744bd31f4a\n",
            "Successfully built wikipedia\n",
            "Installing collected packages: wikipedia\n",
            "Successfully installed wikipedia-1.4.0\n"
          ],
          "name": "stdout"
        }
      ]
    },
    {
      "cell_type": "code",
      "metadata": {
        "id": "y90KUS7Z9AtQ",
        "colab_type": "code",
        "colab": {}
      },
      "source": [
        "import wikipedia\n",
        "import re\n",
        "import random"
      ],
      "execution_count": 0,
      "outputs": []
    },
    {
      "cell_type": "code",
      "metadata": {
        "id": "gFppqn3iCkSW",
        "colab_type": "code",
        "colab": {}
      },
      "source": [
        "def get_word_tokens(words):\n",
        "  word_tokens = {}\n",
        "  for word in words:\n",
        "    new_word = \"\"\n",
        "    for char in re.findall(\"[a-zA-Z]\", word):\n",
        "      if char.isupper():\n",
        "        new_word = new_word + char.lower();\n",
        "      else:\n",
        "        new_word = new_word + char;\n",
        "    if len(new_word) > 0:\n",
        "      new_word = new_word + \"_\";  \n",
        "    if new_word in word_tokens:\n",
        "      word_tokens[new_word] = word_tokens[new_word] + 1;\n",
        "    else:\n",
        "      word_tokens[new_word] = 1;   \n",
        "  return word_tokens;"
      ],
      "execution_count": 0,
      "outputs": []
    },
    {
      "cell_type": "code",
      "metadata": {
        "id": "UKLF8BPeBLNQ",
        "colab_type": "code",
        "colab": {}
      },
      "source": [
        "def get_pairs_from_page(text_content, length_of_pairs):\n",
        "  words = text_content.split(\" \");\n",
        "  word_tokens = get_word_tokens(words);\n",
        "  common_pairs = {}\n",
        "  for key in word_tokens:\n",
        "    symbols = list(key);\n",
        "    limit = 1;\n",
        "    while limit <= length_of_pairs:\n",
        "      for i in range(0, len(symbols) - limit):\n",
        "        pair = '';\n",
        "        for j in range(limit):\n",
        "          pair = pair + symbols[i+j];\n",
        "        if pair in common_pairs:\n",
        "          common_pairs[pair] += 1\n",
        "        else:\n",
        "          common_pairs[pair] = 1\n",
        "      limit = limit + 1;\n",
        "  return common_pairs; \n",
        "      "
      ],
      "execution_count": 0,
      "outputs": []
    },
    {
      "cell_type": "code",
      "metadata": {
        "id": "o5asFtP9rhM_",
        "colab_type": "code",
        "colab": {}
      },
      "source": [
        "def get_page_contents(number_of_wiki_pages):\n",
        "  page_contents = [];\n",
        "  while len(page_contents) < number_of_wiki_pages:\n",
        "    page_title = wikipedia.random(pages = 1);\n",
        "    try:  \n",
        "      text_content = wikipedia.WikipediaPage(title=page_title).content;\n",
        "    except wikipedia.exceptions.DisambiguationError as e:\n",
        "      try:\n",
        "        page_title = e.options[0];\n",
        "        text_content = wikipedia.WikipediaPage(title=page_title).content;\n",
        "      except wikipedia.exceptions.WikipediaException as e:\n",
        "        continue;\n",
        "    print(\"Page Number \"+str(len(page_contents) + 1)+\" is: \"+page_title);\n",
        "    page_contents.append(text_content);\n",
        "  return page_contents;"
      ],
      "execution_count": 0,
      "outputs": []
    },
    {
      "cell_type": "code",
      "metadata": {
        "id": "4u938M0bNsAF",
        "colab_type": "code",
        "colab": {
          "base_uri": "https://localhost:8080/",
          "height": 68
        },
        "outputId": "7523a7ef-2c53-4494-b0d2-b9cbd521c401"
      },
      "source": [
        "print(\"Welcome to Byte Pair Generator!\")\n",
        "number_of_pairs = int(input(\"Please enter the required number of Pairs\"))\n",
        "number_of_wiki_pages = int(input(\"Please enter the number of Wiki pages you would like to scan\"))"
      ],
      "execution_count": 75,
      "outputs": [
        {
          "output_type": "stream",
          "text": [
            "Welcome to Byte Pair Generator!\n",
            "Please enter the required number of Pairs1000\n",
            "Please enter the number of Wiki pages you would like to scan5\n"
          ],
          "name": "stdout"
        }
      ]
    },
    {
      "cell_type": "code",
      "metadata": {
        "id": "ATYodUn7ASB1",
        "colab_type": "code",
        "colab": {
          "base_uri": "https://localhost:8080/",
          "height": 445
        },
        "outputId": "66a1d11e-c484-47a8-aafd-eb356049bf46"
      },
      "source": [
        "common_pairs = {}\n",
        "pair_length = 1;\n",
        "page_contents = get_page_contents(number_of_wiki_pages);\n",
        "while len(common_pairs) < number_of_pairs:\n",
        "  pair_length = pair_length + 1;\n",
        "  print(\"Pair Length: \"+str(pair_length))\n",
        "  for i in range(len(page_contents)):\n",
        "    pairs_from_page = get_pairs_from_page(page_contents[i], pair_length);\n",
        "    for pair in pairs_from_page.items():\n",
        "      if pair[0] in common_pairs:\n",
        "        common_pairs[pair[0]] += pair[1];\n",
        "      else:\n",
        "        common_pairs[pair[0]] = pair[1];\n",
        "    print(\"Length of pairs: \"+str(len(common_pairs)))\n",
        "sorted_pairs = sorted(common_pairs.items(), key=lambda item: item[1], reverse=True)\n",
        "result_chars = ['a','b','c','d','e','f','g','h','i','j','k','l','m','n','o','p','q','r','s','t','u','v','w','x','y','z'];\n",
        "for i in range(number_of_pairs):\n",
        "  result_chars.append(sorted_pairs[i][0]);\n",
        "print(\"The resulted vocabulary of characters:\")\n",
        "print(result_chars)"
      ],
      "execution_count": 100,
      "outputs": [
        {
          "output_type": "stream",
          "text": [
            "Page Number 1 is: Bill Weigand\n",
            "Page Number 2 is: Caledonomorpha\n",
            "Page Number 3 is: Gary Kuo\n"
          ],
          "name": "stdout"
        },
        {
          "output_type": "stream",
          "text": [
            "/usr/local/lib/python3.6/dist-packages/wikipedia/wikipedia.py:389: UserWarning: No parser was explicitly specified, so I'm using the best available HTML parser for this system (\"lxml\"). This usually isn't a problem, but if you run this code on another system, or in a different virtual environment, it may use a different parser and behave differently.\n",
            "\n",
            "The code that caused this warning is on line 389 of the file /usr/local/lib/python3.6/dist-packages/wikipedia/wikipedia.py. To get rid of this warning, pass the additional argument 'features=\"lxml\"' to the BeautifulSoup constructor.\n",
            "\n",
            "  lis = BeautifulSoup(html).find_all('li')\n"
          ],
          "name": "stderr"
        },
        {
          "output_type": "stream",
          "text": [
            "Page Number 4 is: Bojan Dimitrijević (actor)\n",
            "Page Number 5 is: Fengguiwei Fort\n",
            "Pair Length: 2\n",
            "Length of pairs: 196\n",
            "Length of pairs: 230\n",
            "Length of pairs: 308\n",
            "Length of pairs: 331\n",
            "Length of pairs: 354\n",
            "Pair Length: 3\n",
            "Length of pairs: 677\n",
            "Length of pairs: 771\n",
            "Length of pairs: 1111\n",
            "Length of pairs: 1239\n",
            "Length of pairs: 1469\n",
            "The resulted vocabulary of characters:\n",
            "['a', 'b', 'c', 'd', 'e', 'f', 'g', 'h', 'i', 'j', 'k', 'l', 'm', 'n', 'o', 'p', 'q', 'r', 's', 't', 'u', 'v', 'w', 'x', 'y', 'z', 'e', 'i', 'a', 'n', 'r', 'o', 't', 's', 'l', 'd', 'c', 'm', 'h', 'u', 'g', 'er', 'in', 'f', 'w', 'p', 'an', 'b', 're', 'or', 'ed', 'on', 'y', 'k', 'v', 'te', 'es', 'at', 'ng', 'en', 'ar', 'ti', 'he', 'j', 'th', 'li', 'se', 'al', 'le', 'is', 'it', 'ic', 'om', 'st', 'si', 'll', 'ri', 'mi', 'io', 'ca', 'na', 've', 'me', 'ro', 'ch', 'ra', 'ce', 'ie', 'nd', 'as', 'ma', 'to', 'el', 'de', 'hi', 'co', 'di', 'ne', 'ni', 'no', 'ia', 'fo', 'la', 'ac', 'il', 'ol', 'mo', 'ta', 'ea', 'am', 'rn', 'rt', 'vi', 'ge', 'da', 'tr', 'em', 'sh', 'ee', 'ns', 'ing', 'ei', 'bo', 'nt', 'be', 'wo', 'nc', 'ss', 'wa', 'fe', 'ho', 'rs', 'fi', 'ot', 'ha', 'je', 'we', 'ci', 'iv', 'ow', 'lo', 'ct', 'ion', 'wi', 'ay', 'ef', 'rd', 'tt', 'un', 'us', 'ou', 'pe', 'ba', 'du', 'rm', 'of', 'ur', 'ke', 'ai', 'ki', 'ov', 'ec', 'id', 'ry', 'et', 'pa', 'uc', 'od', 'the', 'ate', 'ig', 'ad', 'po', 'do', 'oc', 'ut', 'mp', 'tu', 'gr', 'pi', 'su', 'tio', 'ted', 'for', 'wh', 'ly', 'ir', 'ag', 'sc', 'bi', 'so', 'rr', 'bl', 'ap', 'z', 'os', 'oo', 'ev', 'im', 'ja', 'ter', 'and', 'ere', 'ga', 'ko', 'fr', 'dm', 'rk', 'ht', 'wn', 'ik', 'ty', 'mb', 'ub', 'va', 'ck', 'pl', 'eg', 'ul', 'ld', 'dr', 'ru', 'av', 'sa', 'nn', 'pt', 'ts', 'pr', 'au', 'gu', 'ina', 'man', 'ren', 'nom', 'rv', 'gi', 'gh', 'my', 'if', 'lu', 'ls', 'ye', 'aw', 'ab', 'sp', 'jo', 'ua', 'og', 'ui', 'go', 'hn', 'nk', 'ij', 'cr', 'ug', 'ati', 'ers', 'her', 'nce', 'omi', 'min', 'nat', 'ved', 'all', 'ber', 'his', 'ear', 'ive', 'ove', 'efe', 'com', 'enc', 'str', 'eh', 'uk', 'mu', 'op', 'br', 'um', 'q', 'qu', 'iw', 'cl', 'ey', 'ph', 'rl', 'gt', 'eb', 'gg', 'ii', 'gl', 'ew', 'ds', 'nw', 'sm', 'kl', 'x', 'oj', 'kn', 'ka', 'rc', 'ana', 'ian', 'ser', 'ame', 'din', 'est', 'ard', 'ies', 'ell', 'jer', 'lin', 'ern', 'ese', 'ill', 'orn', 'orm', 'iti', 'ite', 'nal', 'ndi', 'wor', 'ork', 'ref', 'own', 'chi', 'sta', 'ent', 'cat', 'sit', 'ish', 'ele', 'ree', 'men', 'art', 'ini', 'eri', 'mov', 'res', 'ces', 'ain', 'dan', 'tra', 'ich', 'omp', 'tur', 'gra', 'won', 'sen', 'yo', 'yu', 'af', 'ft', 'uo', 'bu', 'hr', 'lm', 'vo', 'mm', 'pu', 'rp', 'nu', 'tl', 'fa', 'ae', 'oe', 'dl', 'ek', 'ku', 'cc', 'ep', 'ip', 'ju', 'rf', 'ud', 'wr', 'ms', 'ob', 'lk', 'dz', 'zu', 'eo', 'ak', 'ex', 'xt', 'ks', 'ff', 'md', 'db', 'rb', 'yi', 'mr', 'pp', 'fu', 'oy', 'up', 'ue', 'lli', 'mer', 'can', 'rse', 'rom', 'ori', 'nto', 'ton', 'ert', 'nin', 'rti', 'ica', 'ver', 'cha', 'tie', 'sin', 'ine', 'ess', 'ass', 'mbe', 'eat', 'ger', 'err', 'con', 'pla', 'rin', 'sio', 'one', 'war', 'bli', 'lic', 'fer', 'led', 'ami', 'oth', 'ins', 'uct', 'cti', 'pro', 'rad', 'nge', 'ari', 'evi', 'ons', 'out', 'nic', 'ood', 'wal', 'nno', 'tte', 'ije', 'ort', 'lia', 'gan', 'bor', 'rme', 'dia', 'oli', 'lit', 'tic', 'cia', 'hor', 'fro', 'rig', 'igi', 'gin', 'igh', 'ght', 'hte', 'wit', 'ith', 'ned', 'age', 'sho', 'anc', 'ong', 'ott', 'rea', 'fic', 'rsi', 'ity', 'als', 'usi', 'nes', 'ani', 'nis', 'vem', 'emb', 'ect', 'cte', 'yea', 'def', 'fea', 'tin', 'tes', 'rry', 'rec', 'ece', 'ast', 'mor', 'ssi', 'awa', 'whe', 'wer', 'cal', 'omo', 'les', 'tai', 'oll', 'win', 'ngt', 'mpo', 'pos', 'lay', 'shi', 'tru', 'ruc', 'ven', 'ogr', 'hol', 'ach', 'med', 'ram', 'loc', 'oca', 'rie', 'ure', 'day', 'red', 'mes', 'goo', 'odm', 'dma', 'nde', 'nwo', 'sma', 'ole', 'kle', 'lei', 'ein', 'hes', 'tab', 'abl', 'tre', 'fen', 'eng', 'rem', 'bas', 'rne', 'rei', 'eij', 'att', 'end', 'der', 'lle', 'lb', 'hs', 'iq', 'oa', 'dp', 'eu', 'uv', 'ln', 'az', 'za', 'lr', 'hy', 'cu', 'yt', 'sw', 'bb', 'nz', 'zi', 'aj', 'oh', 'rw', 'rq', 'ji', 'ah', 'kr', 'sz', 'dg', 'wb', 'ya', 'yd', 'rg', 'bs', 'cy', 'yr', 'vr', 'nj', 'ok', 'tv', 'ih', 'aa', 'ys', 'sk', 'bp', 'ny', 'fn', 'uw', 'gb', 'tc', 'hu', 'lt', 'oi', 'sq', 'hw', 'fl', 'ix', 'ps', 'by', 'sr', 'tn', 'km', 'sf', 'ze', 'nv', 'iam', 'wei', 'eig', 'adi', 'ici', 'erv', 'rve', 'yor', 'whi', 'hit', 'yuk', 'kon', 'lly', 'ont', 'fin', 'ind', 'ivi', 'ili', 'ire', 'arm', 'lat', 'nag', 'ged', 'och', 'hop', 'ran', 'nch', 'mik', 'ike', 'rke', 'ked', 'gen', 'aft', 'fte', 'tif', 'ifi', 'uni', 'niv', 'bri', 'rit', 'olu', 'lum', 'umb', 'bia', 'lso', 'til', 'wel', 'tow', 'sso', 'iwa', 'wan', 'clu', 'ubo', 'nov', 'was', 'thr', 'hre', 'ida', 'oun', 'ilm', 'ick', 'cei', 'eiv', 'ota', 'cas', 'ore', 'tha', 'han', 'ond', 'lac', 'ace', 'she', 'ife', 'ner', 'hey', 'sid', 'idi', 'ale', 'edo', 'don', 'ono', 'orp', 'rph', 'pha', 'eet', 'tle', 'mil', 'car', 'nta', 'fol', 'llo', 'low', 'owi', 'esc', 'sca', 'dar', 'arl', 'rli', 'gto', 'ola', 'leg', 'ega', 'ans', 'jor', 'ord', 'rda', 'sed', 'edl', 'eki', 'aci', 'ric', 'ose', 'vio', 'iol', 'ist', 'not', 'urn', 'hil', 'ldr', 'dre', 'gla', 'las', 'hie', 'iel', 'nst', 'mir', 'rav', 'ave', 'nti', 'mus', 'sic', 'cce', 'sch', 'cho', 'ars', 'hip', 'uil', 'bac', 'che', 'elo', 'lor', 'gre', 'per', 'erf', 'rfo', 'die', 'edi', 'rod', 'duc', 'adu', 'dua', 'uat', 'rog', 'ang', 'ses', 'tel', 'lev', 'vis', 'isi', 'mot', 'ctu', 'rds', 'dra', 'har', 'are', 'ant', 'nel', 'ela', 'mag', 'ron', 'rob', 'dor', 'alk', 'lke', 'ker', 'eve', 'eme', 'ato', 'ann', 'del', 'lan', 'anw', 'jam', 'dzu', 'zub', 'uba', 'dav', 'avi', 'vid', 'cht', 'sus', 'uss', 'ssm', 'fis', 'sie', 'tar', 'ler', 'ied', 'lee', 'mic', 'liv', 'itt', 'ext', 'xte', 'rna', 'ink', 'nks', 'off', 'imd', 'mdb', 'boj', 'oja', 'act', 'tor', 'kno', 'now', 'yin', 'rol', 'unk', 'pik', 'ika', 'kac', 'rat', 'ode', 'cre', 'its', 'suc', 'sti', 'siv', 'ata', 'ble', 'hea', 'atr', 'rai', 'pin', 'kin', 'ide', 'nsi', 'ngg', 'ggu', 'pen', 'ema', 'mai', 'hei', 'cin', 'cor', 'ase', 'bat', 'see', 'lis', 'tro', 'asi', 'tem', 'emp', 'mpt', 'mac', 'aca', 'cau', 'ugu', 'des', 'ens', 'ust', 'rce', 'orc', 'jap', 'apa', 'pan', 'ery', 'wil', 'iga', 'nad', 'pol', 'who', 'may', 'ayo', 'teh', 'eho', 'ors', 'uko', 'edm', 'dmo', 'mon', 'alb', 'lbe', 'rta', 'cam', 'civ', 'vil', 'fir', 'efi', 'fig', 'rmy', 'wne', 'mur', 'urd', 'rdo', 'doc', 'chs', 'gem', 'fra', 'ise', 'alo', 'lon', 'sco', 'cot', 'eal', 'tat', 'arn', 'rni', 'cer', 'tis', 'col', 'mbi', 'hai', 'air', 'liq', 'iqu', 'quo', 'uor', 'boa', 'oar', 'uti', 'dow', 'wnt', 'bus', 'soc', 'oci', 'iat', 'kiw', 'lub', 'bon', 'lec', 'erm', 'riv', 'iva', 'val', 'did', 'dat', 'cou', 'unc', 'nci', 'cil', 'lme', 'thi', 'hic', 'dee', 'eer', 'vot', 'ote', 'tot', 'tal', 'sec', 'eco', 'ndp', 'dpl', 'wif', 'rri', 'omm', 'mmi', 'mis', 'iss', 'pub', 'ubl', 'rvi', 'vic', 'ice', 'esi', 'enu', 'nus', 'bee', 'etl', 'fam', 'ily', 'ara', 'rab', 'abi', 'bid', 'dae', 'spe', 'pec', 'eci', 'cie', 'oni', 'sol', 'deu', 'euv', 'uve', 'loe', 'oeb', 'ebl', 'iln', 'lne', 'nea', 'ean', 'pap', 'apu', 'pua', 'uan', 'pog', 'ogg', 'ggi', 'gii', 'dla', 'cek', 'raz', 'aza', 'zan', 'nac', 'ull', 'llr', 'lri']\n"
          ],
          "name": "stdout"
        }
      ]
    },
    {
      "cell_type": "code",
      "metadata": {
        "id": "gwv02S2mFzXg",
        "colab_type": "code",
        "colab": {}
      },
      "source": [
        ""
      ],
      "execution_count": 0,
      "outputs": []
    }
  ]
}